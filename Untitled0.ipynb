{
  "nbformat": 4,
  "nbformat_minor": 0,
  "metadata": {
    "colab": {
      "name": "Untitled0.ipynb",
      "provenance": [],
      "authorship_tag": "ABX9TyNvslFl4ujUlXHnmveMQG7V",
      "include_colab_link": true
    },
    "kernelspec": {
      "name": "python3",
      "display_name": "Python 3"
    },
    "language_info": {
      "name": "python"
    }
  },
  "cells": [
    {
      "cell_type": "markdown",
      "metadata": {
        "id": "view-in-github",
        "colab_type": "text"
      },
      "source": [
        "<a href=\"https://colab.research.google.com/github/firtue/deneme-1/blob/main/Untitled0.ipynb\" target=\"_parent\"><img src=\"https://colab.research.google.com/assets/colab-badge.svg\" alt=\"Open In Colab\"/></a>"
      ]
    },
    {
      "cell_type": "code",
      "execution_count": 36,
      "metadata": {
        "colab": {
          "base_uri": "https://localhost:8080/"
        },
        "id": "8L0jqPSJkTfE",
        "outputId": "1dee4c87-821f-4ac1-ba49-2073e4477469"
      },
      "outputs": [
        {
          "output_type": "stream",
          "name": "stdout",
          "text": [
            "yemek yiyecek misin?evt\n",
            "geçersiz kelime girdiniz. programı baştan başlatın\n"
          ]
        }
      ],
      "source": [
        "c01=input ('yemek yiyecek misin?')\n",
        "\n",
        "if (\"evet\"in c01):\n",
        "  c04 = input (\"sandvicimiz var çok güzel ondan yemek ister misin\")\n",
        "  if (\"evet\" in c04 or \"olur\"in c04 or \"isterim\"in c04):\n",
        "    c05 = input (\"hangisini istersiniz. 'balık ekmek' mi 'atom' mu\")\n",
        "    if (\"atom\"in c05):\n",
        "      print (\"mükemmel bir seçim, bol malzemeli enfes\")\n",
        "      c07= input (\"içinde turşu olsun mu?\")\n",
        "      if (\"evet\"in c07 or \"olsun\" in c07):\n",
        "        c09=input (\"yanına ayran ister misiniz?\")\n",
        "        if (\"evet\"in c09):\n",
        "          print(\"buuuyrun buz gibi soğuk ayranınızla atomunuz\")\n",
        "        elif (\"hayır\"in c09):\n",
        "          print(\"birazdan sandviçiniz hazır olacak :)\")  \n",
        "        else: print (\"geçersiz kelime girdiniz. programı baştan başlatın\")   \n",
        "      elif (\"hayır\"in c07 or \"olmasın\" in c07):\n",
        "        c10=input (\"yanına çay ister misiniz?\")\n",
        "        if (\"evet\"in c10):\n",
        "          print (\"tavşan kanı çay ile sandviçiniz hazır. afiyet olsun!\")\n",
        "        elif (\"hayır\"in c10):\n",
        "          print (\"bu da çaysız yenmezdi ama.. bu sefer de böyle olsun bakalım\")\n",
        "        else: print (\"geçersiz kelime girdiniz. programı baştan başlatın\")  \n",
        "      else: print (\"geçersiz kelime girdiniz. programı baştan başlatın\")  \n",
        "    elif (\"balık ekmek\" in c05):\n",
        "      print (\"tamamdır\")\n",
        "      c08 = input (\"şimdi bunun yanına şalgam iyi gider. ister misin soğuk bi şalgam?\")\n",
        "      if (\"evet\"in c08 or \"isterim\"in c08):\n",
        "        print (\"buyrunuz efendim balık ekmeğinizle şalgamınız. afiyet olsun\")\n",
        "      elif (\"hayır\"in c08 or \"istemem\"in c08):\n",
        "        print (\"benden demesi sen kaybedersin çok güzeldi şalgamımız. neyse afiyet olsun buyrun balık ekmeğiniz\")\n",
        "      else: print (\"geçersiz kelime girdiniz. programı baştan başlatın\")    \n",
        "    else: print (\"geçersiz kelime girdiniz. programı baştan başlatın\")\n",
        "  elif (\"hayır\"in c04 or \"istemem\"in c04):\n",
        "    print (\"o zaman size çorba veriyorum\")\n",
        "    c06 = input (\"mercimek sever misin?\")\n",
        "    if (\"evet\"in c06 or \"severim\"in c06):\n",
        "      print (\"siz oturun şöyle sımsıcak mercimek çorbanız birazdan geliyor\")\n",
        "    elif (\"hayır\"in c06 or \"sevmem\"in c06):\n",
        "      print (\"mercimek sevilmez mi be\")\n",
        "      print (\"o zaman size kellepaça hazırlıyorum. afiyet olsun\")  \n",
        "    else: print (\"geçersiz kelime girdiniz. programı baştan başlatın\")  \n",
        "  else: print (\"geçersiz kelime girdiniz. programı baştan başlatın\")\n",
        "elif (\"hayır\"in c01):\n",
        "    c02 = input (\"neden yemeyeceksin, tok musun?\")\n",
        "    if (\"evet\" in c02 or \"tokum\" in c02):\n",
        "      print (\"acıktığında tekrar gelirsin\")\n",
        "    elif (\"hayır\"in c02 or \"tok değilim\"in c02 or \"açım\"in c02):\n",
        "      print (\"neden yemiyorsun o zaman \") \n",
        "      c03 = input (\"Paran yoksa söyle, paran var mı?\")\n",
        "      if (\"evet\"in c03 or \"var\"in c03):\n",
        "        print (\"istediğin zaman gelirsin kapımız her zaman açık\")\n",
        "      elif (\"hayır\"in c03 or \"yok\"in c03):\n",
        "        print (\"bugünlük bendensin öyleyse. programı tekrar başlat ilk soruya evet de ve istediğin yemeği al. afiyet olsun :))\")\n",
        "      else: print (\"geçersiz kelime girdiniz. programı baştan başlatın\")\n",
        "    else: print (\"geçersiz kelime girdiniz. programı baştan başlatın\")\n",
        "else: print (\"geçersiz kelime girdiniz. programı baştan başlatın\")\n"
      ]
    }
  ]
}